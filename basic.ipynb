{
 "cells": [
  {
   "cell_type": "code",
   "execution_count": 1,
   "metadata": {
    "collapsed": true
   },
   "outputs": [],
   "source": [
    "import requests\n",
    "from bs4 import BeautifulSoup\n",
    "from datetime import timedelta, date\n",
    "import pandas as pd\n",
    "import pickle"
   ]
  },
  {
   "cell_type": "code",
   "execution_count": 2,
   "metadata": {},
   "outputs": [],
   "source": [
    "def getTodayIndex(year, month, day):\n",
    "    keys = {'syear': year, 'smonth': month, 'sday': day} # 要傳給期貨交易所的 key\n",
    "    r = requests.post(\"http://www.taifex.com.tw/chinese/3/3_1_1.asp\", data = keys) # 抓取這個 key 回傳網頁的原始碼\n",
    "    soup = BeautifulSoup(r.text , \"lxml\") # 把原始碼做整理\n",
    "    # 這邊下面講\n",
    "    soup_data = soup.select('table')[2].select('table')[1].select('td')\n",
    "    return soup_data"
   ]
  },
  {
   "cell_type": "code",
   "execution_count": 3,
   "metadata": {
    "scrolled": true
   },
   "outputs": [
    {
     "name": "stdout",
     "output_type": "stream",
     "text": [
      "[<td class=\"12bk\"><div align=\"center\">TX      \r\n",
      "\t\t\t\t\t\t\t\t\t\t\t  </div></td>, <td class=\"12bk\"><div align=\"center\">201712  </div></td>, <td align=\"right\" class=\"12bk\">10457</td>, <td align=\"right\" class=\"12bk\">10509</td>, <td align=\"right\" class=\"12bk\">10457</td>, <td align=\"right\" class=\"12bk\">10497</td>, <td align=\"middle\" class=\"12green\">\n",
      "<font color=\"red\">â²40</font>\n",
      "</td>, <td align=\"middle\" class=\"12green\">\n",
      "<font color=\"red\">â² 0.38%</font>\n",
      "</td>, <td align=\"right\" class=\"12bk\">10865</td>, <td align=\"right\" class=\"12bk\">88577</td>, <td align=\"right\" class=\"12bk\">99442</td>, <td align=\"right\" class=\"12bk\">\r\n",
      "\t\t\t\t\t\t\t\t\t\t\t-\r\n",
      "\t\t\t\t\t\t\t\t\t\t\t</td>, <td align=\"right\" class=\"12bk\">30811</td>, <td align=\"right\" class=\"12bk\">10497</td>, <td align=\"right\" class=\"12bk\">10498</td>, <td align=\"right\" class=\"12bk\">10877</td>, <td align=\"right\" class=\"12bk\">8856</td>, <td class=\"12bk\"> <div align=\"center\">TX      \r\n",
      "\t\t\t\t\t\t\t\t\t\t\t  </div></td>, <td class=\"12bk\"> <div align=\"center\">201801   \r\n",
      "\t\t\t\t\t\t\t\t\t\t\t  </div></td>, <td align=\"right\" class=\"12bk\">10450</td>, <td align=\"right\" class=\"12bk\">10510</td>, <td align=\"right\" class=\"12bk\">10446</td>, <td align=\"right\" class=\"12bk\">10509</td>, <td align=\"middle\" class=\"12green\">\n",
      "<font color=\"red\">â²65</font>\n",
      "</td>, <td align=\"middle\" class=\"12green\">\n",
      "<font color=\"red\">â² 0.62%</font>\n",
      "</td>, <td align=\"right\" class=\"12bk\">4276</td>, <td align=\"right\" class=\"12bk\">68392</td>, <td align=\"right\" class=\"12bk\">72668</td>, <td align=\"right\" class=\"12bk\">\r\n",
      "\t\t\t\t\t\t\t\t\t\t\t10508\r\n",
      "\t\t\t\t\t\t\t\t\t\t\t</td>, <td align=\"right\" class=\"12bk\">82976</td>, <td align=\"right\" class=\"12bk\">10508</td>, <td align=\"right\" class=\"12bk\">10509</td>, <td align=\"right\" class=\"12bk\">10862</td>, <td align=\"right\" class=\"12bk\">10308</td>, <td class=\"12bk\"><div align=\"center\">TX      \r\n",
      "\t\t\t\t\t\t\t\t\t\t\t  </div></td>, <td class=\"12bk\"><div align=\"center\">201803  </div></td>, <td align=\"right\" class=\"12bk\">10409</td>, <td align=\"right\" class=\"12bk\">10478</td>, <td align=\"right\" class=\"12bk\">10409</td>, <td align=\"right\" class=\"12bk\">10477</td>, <td align=\"middle\" class=\"12green\">\n",
      "<font color=\"red\">â²64</font>\n",
      "</td>, <td align=\"middle\" class=\"12green\">\n",
      "<font color=\"red\">â² 0.61%</font>\n",
      "</td>, <td align=\"right\" class=\"12bk\">42</td>, <td align=\"right\" class=\"12bk\">717</td>, <td align=\"right\" class=\"12bk\">759</td>, <td align=\"right\" class=\"12bk\">\r\n",
      "\t\t\t\t\t\t\t\t\t\t\t10477\r\n",
      "\t\t\t\t\t\t\t\t\t\t\t</td>, <td align=\"right\" class=\"12bk\">3560</td>, <td align=\"right\" class=\"12bk\">10477</td>, <td align=\"right\" class=\"12bk\">10480</td>, <td align=\"right\" class=\"12bk\">10835</td>, <td align=\"right\" class=\"12bk\">9146</td>, <td class=\"12bk\"> <div align=\"center\">TX      \r\n",
      "\t\t\t\t\t\t\t\t\t\t\t  </div></td>, <td class=\"12bk\"> <div align=\"center\">201806   \r\n",
      "\t\t\t\t\t\t\t\t\t\t\t  </div></td>, <td align=\"right\" class=\"12bk\">10356</td>, <td align=\"right\" class=\"12bk\">10423</td>, <td align=\"right\" class=\"12bk\">10356</td>, <td align=\"right\" class=\"12bk\">10420</td>, <td align=\"middle\" class=\"12green\">\n",
      "<font color=\"red\">â²55</font>\n",
      "</td>, <td align=\"middle\" class=\"12green\">\n",
      "<font color=\"red\">â² 0.53%</font>\n",
      "</td>, <td align=\"right\" class=\"12bk\">6</td>, <td align=\"right\" class=\"12bk\">257</td>, <td align=\"right\" class=\"12bk\">263</td>, <td align=\"right\" class=\"12bk\">\r\n",
      "\t\t\t\t\t\t\t\t\t\t\t10419\r\n",
      "\t\t\t\t\t\t\t\t\t\t\t</td>, <td align=\"right\" class=\"12bk\">3313</td>, <td align=\"right\" class=\"12bk\">10415</td>, <td align=\"right\" class=\"12bk\">10425</td>, <td align=\"right\" class=\"12bk\">10784</td>, <td align=\"right\" class=\"12bk\">9456</td>, <td class=\"12bk\"><div align=\"center\">TX      \r\n",
      "\t\t\t\t\t\t\t\t\t\t\t  </div></td>, <td class=\"12bk\"><div align=\"center\">201809  </div></td>, <td align=\"right\" class=\"12bk\">9995</td>, <td align=\"right\" class=\"12bk\">10029</td>, <td align=\"right\" class=\"12bk\">9973</td>, <td align=\"right\" class=\"12bk\">10029</td>, <td align=\"middle\" class=\"12green\">\n",
      "<font color=\"red\">â²53</font>\n",
      "</td>, <td align=\"middle\" class=\"12green\">\n",
      "<font color=\"red\">â² 0.53%</font>\n",
      "</td>, <td align=\"right\" class=\"12bk\">8</td>, <td align=\"right\" class=\"12bk\">88</td>, <td align=\"right\" class=\"12bk\">96</td>, <td align=\"right\" class=\"12bk\">\r\n",
      "\t\t\t\t\t\t\t\t\t\t\t10029\r\n",
      "\t\t\t\t\t\t\t\t\t\t\t</td>, <td align=\"right\" class=\"12bk\">1741</td>, <td align=\"right\" class=\"12bk\">10025</td>, <td align=\"right\" class=\"12bk\">10030</td>, <td align=\"right\" class=\"12bk\">10390</td>, <td align=\"right\" class=\"12bk\">9830</td>, <td> </td>, <td> </td>, <td> </td>, <td> </td>, <td> </td>, <td> </td>, <td> </td>, <td class=\"12bk\">å°è¨:</td>, <td align=\"right\" class=\"12bk\">15197</td>, <td align=\"right\" class=\"12bk\">158031</td>, <td align=\"right\" class=\"12bk\">173228</td>, <td> </td>, <td align=\"right\" bgcolor=\"#CFDFEF\" class=\"12bk\">122401</td>, <td> </td>, <td> </td>, <td> </td>, <td> </td>]\n"
     ]
    }
   ],
   "source": [
    "#可以透過這個方式，知道抓下來的碼到底長什麼樣子，注意不要抓到例假日會跑出錯誤\n",
    "getTodayIndex(2017,12,20)\n",
    "print(getTodayIndex(2017,12,20))"
   ]
  },
  {
   "cell_type": "code",
   "execution_count": 4,
   "metadata": {},
   "outputs": [
    {
     "name": "stdout",
     "output_type": "stream",
     "text": [
      "invalid literal for int() with base 10: '\\r\\n\\t\\t\\t\\t\\t\\t\\t\\t\\t\\t\\t-\\r\\n\\t\\t\\t\\t\\t\\t\\t\\t\\t\\t\\t'\n",
      "stock market was not open on 2017/12/20\n",
      "2017/12/21 is loaded\n",
      "2017/12/22 is loaded\n",
      "stock market was not open on 2017/12/23\n",
      "stock market was not open on 2017/12/24\n",
      "2017/12/25 is loaded\n",
      "2017/12/26 is loaded\n",
      "2017/12/27 is loaded\n",
      "2017/12/28 is loaded\n",
      "2017/12/29 is loaded\n",
      "stock market was not open on 2017/12/30\n",
      "stock market was not open on 2017/12/31\n",
      "stock market was not open on 2018/1/1\n",
      "2018/1/2 is loaded\n",
      "2018/1/3 is loaded\n",
      "2018/1/4 is loaded\n",
      "2018/1/5 is loaded\n",
      "stock market was not open on 2018/1/6\n",
      "stock market was not open on 2018/1/7\n",
      "2018/1/8 is loaded\n",
      "stock market was not open on 2018/1/9\n"
     ]
    },
    {
     "ename": "ValueError",
     "evalue": "arrays must all be same length",
     "output_type": "error",
     "traceback": [
      "\u001b[1;31m---------------------------------------------------------------------------\u001b[0m",
      "\u001b[1;31mValueError\u001b[0m                                Traceback (most recent call last)",
      "\u001b[1;32m<ipython-input-4-227895079a80>\u001b[0m in \u001b[0;36m<module>\u001b[1;34m()\u001b[0m\n\u001b[0;32m     46\u001b[0m \u001b[1;33m\u001b[0m\u001b[0m\n\u001b[0;32m     47\u001b[0m \u001b[1;31m# 從 1998/7/21 開始爬\u001b[0m\u001b[1;33m\u001b[0m\u001b[1;33m\u001b[0m\u001b[0m\n\u001b[1;32m---> 48\u001b[1;33m \u001b[0mdf\u001b[0m \u001b[1;33m=\u001b[0m \u001b[0mgetData\u001b[0m\u001b[1;33m(\u001b[0m\u001b[1;33m[\u001b[0m\u001b[1;36m2017\u001b[0m\u001b[1;33m,\u001b[0m\u001b[1;36m12\u001b[0m\u001b[1;33m,\u001b[0m\u001b[1;36m20\u001b[0m\u001b[1;33m]\u001b[0m\u001b[1;33m)\u001b[0m\u001b[1;33m\u001b[0m\u001b[0m\n\u001b[0m\u001b[0;32m     49\u001b[0m \u001b[1;33m\u001b[0m\u001b[0m\n\u001b[0;32m     50\u001b[0m \u001b[0mprint\u001b[0m \u001b[1;33m(\u001b[0m\u001b[0mdf\u001b[0m\u001b[1;33m[\u001b[0m\u001b[1;33m[\u001b[0m\u001b[1;34m'date'\u001b[0m\u001b[1;33m,\u001b[0m\u001b[1;34m'open'\u001b[0m\u001b[1;33m,\u001b[0m\u001b[1;34m'close'\u001b[0m\u001b[1;33m,\u001b[0m\u001b[1;34m'volume'\u001b[0m\u001b[1;33m]\u001b[0m\u001b[1;33m]\u001b[0m\u001b[1;33m)\u001b[0m\u001b[1;33m\u001b[0m\u001b[0m\n",
      "\u001b[1;32m<ipython-input-4-227895079a80>\u001b[0m in \u001b[0;36mgetData\u001b[1;34m(start)\u001b[0m\n\u001b[0;32m     42\u001b[0m \u001b[1;33m\u001b[0m\u001b[0m\n\u001b[0;32m     43\u001b[0m    \u001b[1;31m# 把 data 放到 DataFrame 裡面\u001b[0m\u001b[1;33m\u001b[0m\u001b[1;33m\u001b[0m\u001b[0m\n\u001b[1;32m---> 44\u001b[1;33m     \u001b[0mdf\u001b[0m \u001b[1;33m=\u001b[0m \u001b[0mpd\u001b[0m\u001b[1;33m.\u001b[0m\u001b[0mDataFrame\u001b[0m\u001b[1;33m(\u001b[0m\u001b[0mdata\u001b[0m\u001b[1;33m)\u001b[0m\u001b[1;33m\u001b[0m\u001b[0m\n\u001b[0m\u001b[0;32m     45\u001b[0m     \u001b[1;32mreturn\u001b[0m \u001b[0mdf\u001b[0m\u001b[1;33m\u001b[0m\u001b[0m\n\u001b[0;32m     46\u001b[0m \u001b[1;33m\u001b[0m\u001b[0m\n",
      "\u001b[1;32m~\\Anaconda3\\lib\\site-packages\\pandas\\core\\frame.py\u001b[0m in \u001b[0;36m__init__\u001b[1;34m(self, data, index, columns, dtype, copy)\u001b[0m\n\u001b[0;32m    273\u001b[0m                                  dtype=dtype, copy=copy)\n\u001b[0;32m    274\u001b[0m         \u001b[1;32melif\u001b[0m \u001b[0misinstance\u001b[0m\u001b[1;33m(\u001b[0m\u001b[0mdata\u001b[0m\u001b[1;33m,\u001b[0m \u001b[0mdict\u001b[0m\u001b[1;33m)\u001b[0m\u001b[1;33m:\u001b[0m\u001b[1;33m\u001b[0m\u001b[0m\n\u001b[1;32m--> 275\u001b[1;33m             \u001b[0mmgr\u001b[0m \u001b[1;33m=\u001b[0m \u001b[0mself\u001b[0m\u001b[1;33m.\u001b[0m\u001b[0m_init_dict\u001b[0m\u001b[1;33m(\u001b[0m\u001b[0mdata\u001b[0m\u001b[1;33m,\u001b[0m \u001b[0mindex\u001b[0m\u001b[1;33m,\u001b[0m \u001b[0mcolumns\u001b[0m\u001b[1;33m,\u001b[0m \u001b[0mdtype\u001b[0m\u001b[1;33m=\u001b[0m\u001b[0mdtype\u001b[0m\u001b[1;33m)\u001b[0m\u001b[1;33m\u001b[0m\u001b[0m\n\u001b[0m\u001b[0;32m    276\u001b[0m         \u001b[1;32melif\u001b[0m \u001b[0misinstance\u001b[0m\u001b[1;33m(\u001b[0m\u001b[0mdata\u001b[0m\u001b[1;33m,\u001b[0m \u001b[0mma\u001b[0m\u001b[1;33m.\u001b[0m\u001b[0mMaskedArray\u001b[0m\u001b[1;33m)\u001b[0m\u001b[1;33m:\u001b[0m\u001b[1;33m\u001b[0m\u001b[0m\n\u001b[0;32m    277\u001b[0m             \u001b[1;32mimport\u001b[0m \u001b[0mnumpy\u001b[0m\u001b[1;33m.\u001b[0m\u001b[0mma\u001b[0m\u001b[1;33m.\u001b[0m\u001b[0mmrecords\u001b[0m \u001b[1;32mas\u001b[0m \u001b[0mmrecords\u001b[0m\u001b[1;33m\u001b[0m\u001b[0m\n",
      "\u001b[1;32m~\\Anaconda3\\lib\\site-packages\\pandas\\core\\frame.py\u001b[0m in \u001b[0;36m_init_dict\u001b[1;34m(self, data, index, columns, dtype)\u001b[0m\n\u001b[0;32m    409\u001b[0m             \u001b[0marrays\u001b[0m \u001b[1;33m=\u001b[0m \u001b[1;33m[\u001b[0m\u001b[0mdata\u001b[0m\u001b[1;33m[\u001b[0m\u001b[0mk\u001b[0m\u001b[1;33m]\u001b[0m \u001b[1;32mfor\u001b[0m \u001b[0mk\u001b[0m \u001b[1;32min\u001b[0m \u001b[0mkeys\u001b[0m\u001b[1;33m]\u001b[0m\u001b[1;33m\u001b[0m\u001b[0m\n\u001b[0;32m    410\u001b[0m \u001b[1;33m\u001b[0m\u001b[0m\n\u001b[1;32m--> 411\u001b[1;33m         \u001b[1;32mreturn\u001b[0m \u001b[0m_arrays_to_mgr\u001b[0m\u001b[1;33m(\u001b[0m\u001b[0marrays\u001b[0m\u001b[1;33m,\u001b[0m \u001b[0mdata_names\u001b[0m\u001b[1;33m,\u001b[0m \u001b[0mindex\u001b[0m\u001b[1;33m,\u001b[0m \u001b[0mcolumns\u001b[0m\u001b[1;33m,\u001b[0m \u001b[0mdtype\u001b[0m\u001b[1;33m=\u001b[0m\u001b[0mdtype\u001b[0m\u001b[1;33m)\u001b[0m\u001b[1;33m\u001b[0m\u001b[0m\n\u001b[0m\u001b[0;32m    412\u001b[0m \u001b[1;33m\u001b[0m\u001b[0m\n\u001b[0;32m    413\u001b[0m     \u001b[1;32mdef\u001b[0m \u001b[0m_init_ndarray\u001b[0m\u001b[1;33m(\u001b[0m\u001b[0mself\u001b[0m\u001b[1;33m,\u001b[0m \u001b[0mvalues\u001b[0m\u001b[1;33m,\u001b[0m \u001b[0mindex\u001b[0m\u001b[1;33m,\u001b[0m \u001b[0mcolumns\u001b[0m\u001b[1;33m,\u001b[0m \u001b[0mdtype\u001b[0m\u001b[1;33m=\u001b[0m\u001b[1;32mNone\u001b[0m\u001b[1;33m,\u001b[0m \u001b[0mcopy\u001b[0m\u001b[1;33m=\u001b[0m\u001b[1;32mFalse\u001b[0m\u001b[1;33m)\u001b[0m\u001b[1;33m:\u001b[0m\u001b[1;33m\u001b[0m\u001b[0m\n",
      "\u001b[1;32m~\\Anaconda3\\lib\\site-packages\\pandas\\core\\frame.py\u001b[0m in \u001b[0;36m_arrays_to_mgr\u001b[1;34m(arrays, arr_names, index, columns, dtype)\u001b[0m\n\u001b[0;32m   5494\u001b[0m     \u001b[1;31m# figure out the index, if necessary\u001b[0m\u001b[1;33m\u001b[0m\u001b[1;33m\u001b[0m\u001b[0m\n\u001b[0;32m   5495\u001b[0m     \u001b[1;32mif\u001b[0m \u001b[0mindex\u001b[0m \u001b[1;32mis\u001b[0m \u001b[1;32mNone\u001b[0m\u001b[1;33m:\u001b[0m\u001b[1;33m\u001b[0m\u001b[0m\n\u001b[1;32m-> 5496\u001b[1;33m         \u001b[0mindex\u001b[0m \u001b[1;33m=\u001b[0m \u001b[0mextract_index\u001b[0m\u001b[1;33m(\u001b[0m\u001b[0marrays\u001b[0m\u001b[1;33m)\u001b[0m\u001b[1;33m\u001b[0m\u001b[0m\n\u001b[0m\u001b[0;32m   5497\u001b[0m     \u001b[1;32melse\u001b[0m\u001b[1;33m:\u001b[0m\u001b[1;33m\u001b[0m\u001b[0m\n\u001b[0;32m   5498\u001b[0m         \u001b[0mindex\u001b[0m \u001b[1;33m=\u001b[0m \u001b[0m_ensure_index\u001b[0m\u001b[1;33m(\u001b[0m\u001b[0mindex\u001b[0m\u001b[1;33m)\u001b[0m\u001b[1;33m\u001b[0m\u001b[0m\n",
      "\u001b[1;32m~\\Anaconda3\\lib\\site-packages\\pandas\\core\\frame.py\u001b[0m in \u001b[0;36mextract_index\u001b[1;34m(data)\u001b[0m\n\u001b[0;32m   5542\u001b[0m             \u001b[0mlengths\u001b[0m \u001b[1;33m=\u001b[0m \u001b[0mlist\u001b[0m\u001b[1;33m(\u001b[0m\u001b[0mset\u001b[0m\u001b[1;33m(\u001b[0m\u001b[0mraw_lengths\u001b[0m\u001b[1;33m)\u001b[0m\u001b[1;33m)\u001b[0m\u001b[1;33m\u001b[0m\u001b[0m\n\u001b[0;32m   5543\u001b[0m             \u001b[1;32mif\u001b[0m \u001b[0mlen\u001b[0m\u001b[1;33m(\u001b[0m\u001b[0mlengths\u001b[0m\u001b[1;33m)\u001b[0m \u001b[1;33m>\u001b[0m \u001b[1;36m1\u001b[0m\u001b[1;33m:\u001b[0m\u001b[1;33m\u001b[0m\u001b[0m\n\u001b[1;32m-> 5544\u001b[1;33m                 \u001b[1;32mraise\u001b[0m \u001b[0mValueError\u001b[0m\u001b[1;33m(\u001b[0m\u001b[1;34m'arrays must all be same length'\u001b[0m\u001b[1;33m)\u001b[0m\u001b[1;33m\u001b[0m\u001b[0m\n\u001b[0m\u001b[0;32m   5545\u001b[0m \u001b[1;33m\u001b[0m\u001b[0m\n\u001b[0;32m   5546\u001b[0m             \u001b[1;32mif\u001b[0m \u001b[0mhave_dicts\u001b[0m\u001b[1;33m:\u001b[0m\u001b[1;33m\u001b[0m\u001b[0m\n",
      "\u001b[1;31mValueError\u001b[0m: arrays must all be same length"
     ]
    }
   ],
   "source": [
    "def getData(start):\n",
    "\n",
    "    # 先把 DataFrame 架構寫好\n",
    "    data = {'date':[], 'open':[], 'high':[], 'low':[], 'settlement':[], 'volume':[], 'close':[], 'open_int':[], 'close_best_bid':[], 'close_best_ask':[]}\n",
    "\n",
    "    # 這邊匯入我們想要的資料的起始日期\n",
    "    day = date(start[0], start[1], start[2])\n",
    "    # 這邊把停止日期設置在今天\n",
    "    today = date.today()\n",
    "    # 起始日至今日的總日數\n",
    "    span = ((today - day).days) + 1\n",
    "    # 因為是每日資料，所以間隔設為一日\n",
    "    interval = timedelta(days=1)\n",
    "\n",
    "    # 多定義一個把爬下來的資料放進 DataFrame 的方法\n",
    "    def addtoData(column, index):\n",
    "        try:\n",
    "            data[column].append(int(soup_data[index].text))\n",
    "        except Exception as e:\n",
    "            print (e)\n",
    "            data[column].append(np.nan)\n",
    "     # 把整個 span 內的 soup_data 中的當日期指各項資料抓下來\n",
    "    for _ in range(span):\n",
    "        try:\n",
    "            soup_data = getTodayIndex(day.year, day.month, day.day)\n",
    "            data['date'].append(day)\n",
    "            addtoData('open', 2)\n",
    "            addtoData('high', 3)\n",
    "            addtoData('low', 4)\n",
    "            addtoData('settlement', 5)\n",
    "            addtoData('volume', 8)\n",
    "            addtoData('close', 11)\n",
    "            addtoData('open_int', 12)\n",
    "            addtoData('close_best_bid', 13)\n",
    "            addtoData('close_best_ask', 14)\n",
    "            print ('%d/%d/%d is loaded' %(day.year, day.month, day.day))\n",
    "        except Exception as e:\n",
    "            #print (e)\n",
    "            print ('stock market was not open on %d/%d/%d' %(day.year, day.month, day.day))\n",
    "        # 日期往後加一天\n",
    "        day += interval\n",
    "\n",
    "   # 把 data 放到 DataFrame 裡面\n",
    "    df = pd.DataFrame(data)\n",
    "    return df  \n",
    "\n",
    "# 從 1998/7/21 開始爬\n",
    "df = getData([2017,12,20])\n",
    "\n",
    "print (df[['date','open','close','volume']])"
   ]
  },
  {
   "cell_type": "code",
   "execution_count": null,
   "metadata": {
    "collapsed": true
   },
   "outputs": [],
   "source": [
    "with open('TWfuture.pickle','wb') as f:\n",
    "    pickle.dump(df, f)"
   ]
  },
  {
   "cell_type": "code",
   "execution_count": null,
   "metadata": {},
   "outputs": [],
   "source": [
    "pickle_in = open('TWfuture.pickle', 'rb')\n",
    "df = pickle.load(pickle_in)\n",
    "df"
   ]
  }
 ],
 "metadata": {
  "kernelspec": {
   "display_name": "Python 3",
   "language": "python",
   "name": "python3"
  },
  "language_info": {
   "codemirror_mode": {
    "name": "ipython",
    "version": 3
   },
   "file_extension": ".py",
   "mimetype": "text/x-python",
   "name": "python",
   "nbconvert_exporter": "python",
   "pygments_lexer": "ipython3",
   "version": "3.6.2"
  }
 },
 "nbformat": 4,
 "nbformat_minor": 2
}
